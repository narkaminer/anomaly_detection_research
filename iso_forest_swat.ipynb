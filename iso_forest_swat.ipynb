{
  "nbformat": 4,
  "nbformat_minor": 0,
  "metadata": {
    "colab": {
      "provenance": []
    },
    "kernelspec": {
      "name": "python3",
      "display_name": "Python 3"
    },
    "language_info": {
      "name": "python"
    }
  },
  "cells": [
    {
      "cell_type": "code",
      "execution_count": null,
      "metadata": {
        "colab": {
          "base_uri": "https://localhost:8080/",
          "height": 74
        },
        "id": "k_Pr-B1zhYKS",
        "outputId": "cfba4236-93c4-4fe1-ebb4-53dbc1232905"
      },
      "outputs": [
        {
          "output_type": "display_data",
          "data": {
            "text/plain": [
              "<IPython.core.display.HTML object>"
            ],
            "text/html": [
              "\n",
              "     <input type=\"file\" id=\"files-072bf933-427d-43aa-b0a9-2c39fe058439\" name=\"files[]\" multiple disabled\n",
              "        style=\"border:none\" />\n",
              "     <output id=\"result-072bf933-427d-43aa-b0a9-2c39fe058439\">\n",
              "      Upload widget is only available when the cell has been executed in the\n",
              "      current browser session. Please rerun this cell to enable.\n",
              "      </output>\n",
              "      <script>// Copyright 2017 Google LLC\n",
              "//\n",
              "// Licensed under the Apache License, Version 2.0 (the \"License\");\n",
              "// you may not use this file except in compliance with the License.\n",
              "// You may obtain a copy of the License at\n",
              "//\n",
              "//      http://www.apache.org/licenses/LICENSE-2.0\n",
              "//\n",
              "// Unless required by applicable law or agreed to in writing, software\n",
              "// distributed under the License is distributed on an \"AS IS\" BASIS,\n",
              "// WITHOUT WARRANTIES OR CONDITIONS OF ANY KIND, either express or implied.\n",
              "// See the License for the specific language governing permissions and\n",
              "// limitations under the License.\n",
              "\n",
              "/**\n",
              " * @fileoverview Helpers for google.colab Python module.\n",
              " */\n",
              "(function(scope) {\n",
              "function span(text, styleAttributes = {}) {\n",
              "  const element = document.createElement('span');\n",
              "  element.textContent = text;\n",
              "  for (const key of Object.keys(styleAttributes)) {\n",
              "    element.style[key] = styleAttributes[key];\n",
              "  }\n",
              "  return element;\n",
              "}\n",
              "\n",
              "// Max number of bytes which will be uploaded at a time.\n",
              "const MAX_PAYLOAD_SIZE = 100 * 1024;\n",
              "\n",
              "function _uploadFiles(inputId, outputId) {\n",
              "  const steps = uploadFilesStep(inputId, outputId);\n",
              "  const outputElement = document.getElementById(outputId);\n",
              "  // Cache steps on the outputElement to make it available for the next call\n",
              "  // to uploadFilesContinue from Python.\n",
              "  outputElement.steps = steps;\n",
              "\n",
              "  return _uploadFilesContinue(outputId);\n",
              "}\n",
              "\n",
              "// This is roughly an async generator (not supported in the browser yet),\n",
              "// where there are multiple asynchronous steps and the Python side is going\n",
              "// to poll for completion of each step.\n",
              "// This uses a Promise to block the python side on completion of each step,\n",
              "// then passes the result of the previous step as the input to the next step.\n",
              "function _uploadFilesContinue(outputId) {\n",
              "  const outputElement = document.getElementById(outputId);\n",
              "  const steps = outputElement.steps;\n",
              "\n",
              "  const next = steps.next(outputElement.lastPromiseValue);\n",
              "  return Promise.resolve(next.value.promise).then((value) => {\n",
              "    // Cache the last promise value to make it available to the next\n",
              "    // step of the generator.\n",
              "    outputElement.lastPromiseValue = value;\n",
              "    return next.value.response;\n",
              "  });\n",
              "}\n",
              "\n",
              "/**\n",
              " * Generator function which is called between each async step of the upload\n",
              " * process.\n",
              " * @param {string} inputId Element ID of the input file picker element.\n",
              " * @param {string} outputId Element ID of the output display.\n",
              " * @return {!Iterable<!Object>} Iterable of next steps.\n",
              " */\n",
              "function* uploadFilesStep(inputId, outputId) {\n",
              "  const inputElement = document.getElementById(inputId);\n",
              "  inputElement.disabled = false;\n",
              "\n",
              "  const outputElement = document.getElementById(outputId);\n",
              "  outputElement.innerHTML = '';\n",
              "\n",
              "  const pickedPromise = new Promise((resolve) => {\n",
              "    inputElement.addEventListener('change', (e) => {\n",
              "      resolve(e.target.files);\n",
              "    });\n",
              "  });\n",
              "\n",
              "  const cancel = document.createElement('button');\n",
              "  inputElement.parentElement.appendChild(cancel);\n",
              "  cancel.textContent = 'Cancel upload';\n",
              "  const cancelPromise = new Promise((resolve) => {\n",
              "    cancel.onclick = () => {\n",
              "      resolve(null);\n",
              "    };\n",
              "  });\n",
              "\n",
              "  // Wait for the user to pick the files.\n",
              "  const files = yield {\n",
              "    promise: Promise.race([pickedPromise, cancelPromise]),\n",
              "    response: {\n",
              "      action: 'starting',\n",
              "    }\n",
              "  };\n",
              "\n",
              "  cancel.remove();\n",
              "\n",
              "  // Disable the input element since further picks are not allowed.\n",
              "  inputElement.disabled = true;\n",
              "\n",
              "  if (!files) {\n",
              "    return {\n",
              "      response: {\n",
              "        action: 'complete',\n",
              "      }\n",
              "    };\n",
              "  }\n",
              "\n",
              "  for (const file of files) {\n",
              "    const li = document.createElement('li');\n",
              "    li.append(span(file.name, {fontWeight: 'bold'}));\n",
              "    li.append(span(\n",
              "        `(${file.type || 'n/a'}) - ${file.size} bytes, ` +\n",
              "        `last modified: ${\n",
              "            file.lastModifiedDate ? file.lastModifiedDate.toLocaleDateString() :\n",
              "                                    'n/a'} - `));\n",
              "    const percent = span('0% done');\n",
              "    li.appendChild(percent);\n",
              "\n",
              "    outputElement.appendChild(li);\n",
              "\n",
              "    const fileDataPromise = new Promise((resolve) => {\n",
              "      const reader = new FileReader();\n",
              "      reader.onload = (e) => {\n",
              "        resolve(e.target.result);\n",
              "      };\n",
              "      reader.readAsArrayBuffer(file);\n",
              "    });\n",
              "    // Wait for the data to be ready.\n",
              "    let fileData = yield {\n",
              "      promise: fileDataPromise,\n",
              "      response: {\n",
              "        action: 'continue',\n",
              "      }\n",
              "    };\n",
              "\n",
              "    // Use a chunked sending to avoid message size limits. See b/62115660.\n",
              "    let position = 0;\n",
              "    do {\n",
              "      const length = Math.min(fileData.byteLength - position, MAX_PAYLOAD_SIZE);\n",
              "      const chunk = new Uint8Array(fileData, position, length);\n",
              "      position += length;\n",
              "\n",
              "      const base64 = btoa(String.fromCharCode.apply(null, chunk));\n",
              "      yield {\n",
              "        response: {\n",
              "          action: 'append',\n",
              "          file: file.name,\n",
              "          data: base64,\n",
              "        },\n",
              "      };\n",
              "\n",
              "      let percentDone = fileData.byteLength === 0 ?\n",
              "          100 :\n",
              "          Math.round((position / fileData.byteLength) * 100);\n",
              "      percent.textContent = `${percentDone}% done`;\n",
              "\n",
              "    } while (position < fileData.byteLength);\n",
              "  }\n",
              "\n",
              "  // All done.\n",
              "  yield {\n",
              "    response: {\n",
              "      action: 'complete',\n",
              "    }\n",
              "  };\n",
              "}\n",
              "\n",
              "scope.google = scope.google || {};\n",
              "scope.google.colab = scope.google.colab || {};\n",
              "scope.google.colab._files = {\n",
              "  _uploadFiles,\n",
              "  _uploadFilesContinue,\n",
              "};\n",
              "})(self);\n",
              "</script> "
            ]
          },
          "metadata": {}
        },
        {
          "output_type": "stream",
          "name": "stdout",
          "text": [
            "Saving SWaT_Dataset_Attack_v0.xlsx to SWaT_Dataset_Attack_v0.xlsx\n"
          ]
        }
      ],
      "source": [
        "from google.colab import files\n",
        "uploaded = files.upload()\n"
      ]
    },
    {
      "cell_type": "code",
      "source": [
        "import pandas as pd\n",
        "\n",
        "# Чтение Excel файла\n",
        "df = pd.read_excel(\"SWaT_Dataset_Attack_v0.xlsx\", engine='openpyxl')\n",
        "print(df.head())\n"
      ],
      "metadata": {
        "colab": {
          "base_uri": "https://localhost:8080/"
        },
        "id": "s68dZxObihVG",
        "outputId": "5d848f14-88d7-4753-f638-c670a04cfc4b"
      },
      "execution_count": null,
      "outputs": [
        {
          "output_type": "stream",
          "name": "stdout",
          "text": [
            "                Unnamed: 0 Unnamed: 1 Unnamed: 2 Unnamed: 3 Unnamed: 4  \\\n",
            "0                  t_stamp     FIT101     LIT101      MV101       P101   \n",
            "1   28/12/2015 10:00:00 AM   2.427057   522.8467          2          2   \n",
            "2   28/12/2015 10:00:01 AM   2.446274    522.886          2          2   \n",
            "3   28/12/2015 10:00:02 AM   2.489191   522.8467          2          2   \n",
            "4   28/12/2015 10:00:03 AM    2.53435   522.9645          2          2   \n",
            "\n",
            "  Unnamed: 5 Unnamed: 6 Unnamed: 7 Unnamed: 8 Unnamed: 9  ... Unnamed: 43  \\\n",
            "0       P102     AIT201     AIT202     AIT203     FIT201  ...        P501   \n",
            "1          1   262.0161   8.396437   328.6337   2.445391  ...           2   \n",
            "2          1   262.0161   8.396437   328.6337   2.445391  ...           2   \n",
            "3          1   262.0161   8.394514   328.6337   2.442316  ...           2   \n",
            "4          1   262.0161   8.394514   328.6337   2.442316  ...           2   \n",
            "\n",
            "  Unnamed: 44 Unnamed: 45 Unnamed: 46 Unnamed: 47 Unnamed: 48 Unnamed: 49  \\\n",
            "0        P502      PIT501      PIT502      PIT503      FIT601        P601   \n",
            "1           1    250.8652    1.649953    189.5988    0.000128           1   \n",
            "2           1    250.8652    1.649953    189.6789    0.000128           1   \n",
            "3           1    250.8812    1.649953    189.6789    0.000128           1   \n",
            "4           1    250.8812    1.649953    189.6148    0.000128           1   \n",
            "\n",
            "  Unnamed: 50 Unnamed: 51 Unnamed: 52  \n",
            "0        P602        P603       State  \n",
            "1           1           1      Normal  \n",
            "2           1           1      Normal  \n",
            "3           1           1      Normal  \n",
            "4           1           1      Normal  \n",
            "\n",
            "[5 rows x 53 columns]\n"
          ]
        }
      ]
    },
    {
      "cell_type": "code",
      "source": [
        "# Step 2: Import necessary libraries and read the dataset\n",
        "# import pandas as pd\n",
        "from sklearn.ensemble import IsolationForest\n",
        "import matplotlib.pyplot as plt\n",
        "\n",
        "# Read the Excel file (make sure openpyxl is used as engine)\n",
        "# df = pd.read_excel(\"SWaT_Dataset_Attack_v0.xlsx\", engine=\"openpyxl\")\n",
        "\n",
        "# Display shape and head for sanity check\n",
        "print(\"Dataset shape:\", df.shape)\n",
        "print(df.head())\n"
      ],
      "metadata": {
        "colab": {
          "base_uri": "https://localhost:8080/"
        },
        "id": "ZTUYgY2PihFo",
        "outputId": "7abc23e0-54f8-40fb-a4d3-2306e30069dd"
      },
      "execution_count": null,
      "outputs": [
        {
          "output_type": "stream",
          "name": "stdout",
          "text": [
            "Dataset shape: (449920, 53)\n",
            "                Unnamed: 0 Unnamed: 1 Unnamed: 2 Unnamed: 3 Unnamed: 4  \\\n",
            "0                  t_stamp     FIT101     LIT101      MV101       P101   \n",
            "1   28/12/2015 10:00:00 AM   2.427057   522.8467          2          2   \n",
            "2   28/12/2015 10:00:01 AM   2.446274    522.886          2          2   \n",
            "3   28/12/2015 10:00:02 AM   2.489191   522.8467          2          2   \n",
            "4   28/12/2015 10:00:03 AM    2.53435   522.9645          2          2   \n",
            "\n",
            "  Unnamed: 5 Unnamed: 6 Unnamed: 7 Unnamed: 8 Unnamed: 9  ... Unnamed: 43  \\\n",
            "0       P102     AIT201     AIT202     AIT203     FIT201  ...        P501   \n",
            "1          1   262.0161   8.396437   328.6337   2.445391  ...           2   \n",
            "2          1   262.0161   8.396437   328.6337   2.445391  ...           2   \n",
            "3          1   262.0161   8.394514   328.6337   2.442316  ...           2   \n",
            "4          1   262.0161   8.394514   328.6337   2.442316  ...           2   \n",
            "\n",
            "  Unnamed: 44 Unnamed: 45 Unnamed: 46 Unnamed: 47 Unnamed: 48 Unnamed: 49  \\\n",
            "0        P502      PIT501      PIT502      PIT503      FIT601        P601   \n",
            "1           1    250.8652    1.649953    189.5988    0.000128           1   \n",
            "2           1    250.8652    1.649953    189.6789    0.000128           1   \n",
            "3           1    250.8812    1.649953    189.6789    0.000128           1   \n",
            "4           1    250.8812    1.649953    189.6148    0.000128           1   \n",
            "\n",
            "  Unnamed: 50 Unnamed: 51 Unnamed: 52  \n",
            "0        P602        P603       State  \n",
            "1           1           1      Normal  \n",
            "2           1           1      Normal  \n",
            "3           1           1      Normal  \n",
            "4           1           1      Normal  \n",
            "\n",
            "[5 rows x 53 columns]\n"
          ]
        }
      ]
    },
    {
      "cell_type": "code",
      "source": [
        "# Step 3: Preprocessing\n",
        "\n",
        "# Drop timestamp and state columns if they exist\n",
        "# NOTE: Changed 't_stamp' to ' Timestamp' and added 't_stamp' to handle potential variation.\n",
        "df_clean = df.drop(columns=[\" Timestamp\", \"State\", \"t_stamp\"], errors='ignore')\n",
        "\n",
        "# Replace commas with dots if needed (in string values)\n",
        "# Remove leading/trailing spaces when replacing commas with dots\n",
        "# Convert all columns to float, skipping columns that can't be converted\n",
        "# Explicitly handle potential index column\n",
        "if 'Unnamed: 0' in df_clean.columns:\n",
        "    df_clean = df_clean.drop(columns=['Unnamed: 0'])\n",
        "\n",
        "# Iterate through columns and attempt conversion\n",
        "for col in df_clean.columns:\n",
        "    # Attempt conversion, replacing commas with dots and handling errors\n",
        "    try:\n",
        "        df_clean[col] = pd.to_numeric(df_clean[col].astype(str).str.replace(',', '.', 1), errors='coerce')\n",
        "    except (TypeError, ValueError):\n",
        "        print(f\"Skipping conversion of column {col} due to non-numeric values.\")\n",
        "# Impute missing values using the mean of each column\n",
        "df_clean = df_clean.fillna(df_clean.mean())\n",
        "\n",
        "# Check for missing values\n",
        "print(\"Total missing values:\", df_clean.isnull().sum().sum())"
      ],
      "metadata": {
        "colab": {
          "base_uri": "https://localhost:8080/"
        },
        "id": "2CXoeJZNiHHf",
        "outputId": "de577c96-7cae-4a33-f978-bbf2165d0906"
      },
      "execution_count": null,
      "outputs": [
        {
          "output_type": "stream",
          "name": "stdout",
          "text": [
            "Total missing values: 449920\n"
          ]
        }
      ]
    },
    {
      "cell_type": "code",
      "source": [
        "# Step 4: Train the Isolation Forest model\n",
        "model = IsolationForest(n_estimators=100, contamination=0.02, random_state=42)\n",
        "model.fit(df_clean)\n",
        "\n",
        "# Predict anomalies\n",
        "preds = model.predict(df_clean)  # -1 = anomaly, 1 = normal\n",
        "df['Prediction'] = preds\n",
        "\n",
        "# Display prediction counts\n",
        "print(df['Prediction'].value_counts())\n"
      ],
      "metadata": {
        "colab": {
          "base_uri": "https://localhost:8080/"
        },
        "id": "e3M6pbG6oq8D",
        "outputId": "d9b924b5-8fd2-43e5-bb53-cfc9519eed36"
      },
      "execution_count": null,
      "outputs": [
        {
          "output_type": "stream",
          "name": "stdout",
          "text": [
            "Prediction\n",
            " 1    440921\n",
            "-1      8999\n",
            "Name: count, dtype: int64\n"
          ]
        }
      ]
    },
    {
      "cell_type": "code",
      "source": [
        "# Step 5: Optional - Visualize number of anomalies\n",
        "plt.figure(figsize=(6, 4))\n",
        "df['Prediction'].value_counts().plot(kind='bar', color=['green', 'red'])\n",
        "plt.title(\"Normal vs Anomaly Predictions\")\n",
        "plt.xticks([0, 1], ['Normal (1)', 'Anomaly (-1)'], rotation=0)\n",
        "plt.grid(axis='y')\n",
        "plt.show()\n"
      ],
      "metadata": {
        "colab": {
          "base_uri": "https://localhost:8080/",
          "height": 410
        },
        "id": "tqOxjK2mrnln",
        "outputId": "e837c5d8-f3c9-4a50-d223-8115d8ae59c9"
      },
      "execution_count": null,
      "outputs": [
        {
          "output_type": "display_data",
          "data": {
            "text/plain": [
              "<Figure size 600x400 with 1 Axes>"
            ],
            "image/png": "[encoded data removed]"
          },
          "metadata": {}
        }
      ]
    },
    {
      "cell_type": "code",
      "source": [
        "import numpy as np  # Add this line to import NumPy\n",
        "scores = model.decision_function(df_clean)  # Чем меньше — тем более аномально\n",
        "plt.figure(figsize=(10, 5))\n",
        "plt.hist(scores, bins=100, color='purple', alpha=0.7)\n",
        "plt.axvline(x=np.percentile(scores, 2), color='red', linestyle='--', label='2% Threshold')\n",
        "plt.title(\"Distribution of Anomaly Scores\")\n",
        "plt.xlabel(\"Anomaly Score (IsolationForest)\")\n",
        "plt.ylabel(\"Count\")\n",
        "plt.legend()\n",
        "plt.grid(True)\n",
        "plt.show()"
      ],
      "metadata": {
        "colab": {
          "base_uri": "https://localhost:8080/",
          "height": 487
        },
        "id": "Rw9d76obrndK",
        "outputId": "efaf57b3-8f38-4c43-f826-9538bb343e86"
      },
      "execution_count": null,
      "outputs": [
        {
          "output_type": "display_data",
          "data": {
            "text/plain": [
              "<Figure size 1000x500 with 1 Axes>"
            ],
            "image/png": "[encoded data removed]"
          },
          "metadata": {}
        }
      ]
    },
    {
      "cell_type": "code",
      "source": [
        "# Добавим anomaly score в датафрейм\n",
        "df['Anomaly_Score'] = scores\n",
        "\n",
        "# Отсортируем по аномальности (от самого \"аномального\" к наименее)\n",
        "top_anomalies = df[df['Prediction'] == -1].sort_values(by='Anomaly_Score').head(10)\n",
        "\n",
        "print(\"Top 10 most anomalous records:\")\n",
        "\n",
        "# Assuming the first column ('Unnamed: 0') in the original df is the timestamp\n",
        "# If this is incorrect, change 'Unnamed: 0' to the actual timestamp column name\n",
        "timestamp_col = 'Unnamed: 0'\n",
        "\n",
        "# Now use the found timestamp_col to select from top_anomalies\n",
        "print(top_anomalies[[timestamp_col, 'Anomaly_Score'] + df_clean.columns[:5].tolist()])"
      ],
      "metadata": {
        "colab": {
          "base_uri": "https://localhost:8080/"
        },
        "id": "ei6T4QmQtGHu",
        "outputId": "9a73113b-3f47-4f23-b877-1b5897baf851"
      },
      "execution_count": null,
      "outputs": [
        {
          "output_type": "stream",
          "name": "stdout",
          "text": [
            "Top 10 most anomalous records:\n",
            "                   Unnamed: 0  Anomaly_Score Unnamed: 1 Unnamed: 2 Unnamed: 3  \\\n",
            "16059   28/12/2015 2:27:38 PM      -0.092428   2.631393   541.0208          2   \n",
            "16060   28/12/2015 2:27:39 PM      -0.092428    2.62723    540.746          2   \n",
            "16061   28/12/2015 2:27:40 PM      -0.092428   2.622426   540.1572          2   \n",
            "16062   28/12/2015 2:27:41 PM      -0.092428   2.607693   539.8432          2   \n",
            "16065   28/12/2015 2:27:44 PM      -0.091952   2.544278   540.0002          2   \n",
            "16064   28/12/2015 2:27:43 PM      -0.091477   2.562534   540.0394          2   \n",
            "16063   28/12/2015 2:27:42 PM      -0.091477   2.577907    539.804          2   \n",
            "16058   28/12/2015 2:27:37 PM      -0.089611   2.646126   540.9815          2   \n",
            "16057   28/12/2015 2:27:36 PM      -0.088664   2.670147    540.589          2   \n",
            "16054   28/12/2015 2:27:33 PM      -0.086302   2.603529   540.8245          2   \n",
            "\n",
            "      Unnamed: 4 Unnamed: 5  \n",
            "16059          2          1  \n",
            "16060          2          1  \n",
            "16061          2          1  \n",
            "16062          2          1  \n",
            "16065          2          1  \n",
            "16064          2          1  \n",
            "16063          2          1  \n",
            "16058          2          1  \n",
            "16057          2          1  \n",
            "16054          2          1  \n"
          ]
        }
      ]
    },
    {
      "cell_type": "code",
      "source": [
        "# Попробуем загрузить с пропуском первых 3 строк\n",
        "df = pd.read_excel(\"SWaT_Dataset_Attack_v0.xlsx\", engine=\"openpyxl\", header=None, skiprows=3)\n",
        "\n",
        "# Очистим пробелы в названиях колонок\n",
        "df.columns = df.iloc[0].str.strip()  # Используем первую строку как заголовки\n",
        "\n",
        "# Удалим первую строку (так как она использовалась как заголовки)\n",
        "df = df.drop(0)\n",
        "\n",
        "# Убедимся, что колонка 't_stamp' есть и конвертируем её в datetime\n",
        "if 't_stamp' in df.columns:\n",
        "    df['t_stamp'] = pd.to_datetime(df['t_stamp'], errors='coerce')\n",
        "    df = df.dropna(subset=['t_stamp'])  # Удалим строки с пропущенными датами\n",
        "\n",
        "    # Построим график по FIT101\n",
        "    plt.figure(figsize=(14, 5))\n",
        "    plt.plot(df['t_stamp'], df['FIT101'], label='FIT101', alpha=0.6)\n",
        "\n",
        "    # Покажем аномалии\n",
        "    anomaly_mask = df['Prediction'] == -1\n",
        "    plt.scatter(df.loc[anomaly_mask, 't_stamp'],\n",
        "                df.loc[anomaly_mask, 'FIT101'],\n",
        "                color='red', label='Anomalies', s=20)\n",
        "\n",
        "    plt.title('Anomalies in FIT101 Sensor Over Time')\n",
        "    plt.xlabel('Time')\n",
        "    plt.ylabel('FIT101 Value')\n",
        "    plt.legend()\n",
        "    plt.grid(True)\n",
        "    plt.tight_layout()\n",
        "    plt.show()\n",
        "\n",
        "else:\n",
        "    print(\"🔴 Колонка 't_stamp' не найдена. Вот какие колонки есть:\")\n",
        "    print(df.columns.tolist())\n"
      ],
      "metadata": {
        "colab": {
          "base_uri": "https://localhost:8080/"
        },
        "id": "j5ipmSYjtF7a",
        "outputId": "483848ad-6fd4-4a39-9417-1e2b2cdb7f35"
      },
      "execution_count": null,
      "outputs": [
        {
          "output_type": "stream",
          "name": "stdout",
          "text": [
            "🔴 Колонка 't_stamp' не найдена. Вот какие колонки есть:\n",
            "['28/12/2015 10:00:01 AM', nan, nan, nan, nan, nan, nan, nan, nan, nan, nan, nan, nan, nan, nan, nan, nan, nan, nan, nan, nan, nan, nan, nan, nan, nan, nan, nan, nan, nan, nan, nan, nan, nan, nan, nan, nan, nan, nan, nan, nan, nan, nan, nan, nan, nan, nan, nan, nan, nan, nan, nan, 'Normal']\n"
          ]
        }
      ]
    }
  ]
}